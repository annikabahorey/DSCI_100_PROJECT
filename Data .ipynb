{
 "cells": [
  {
   "cell_type": "code",
   "execution_count": 105,
   "id": "94d8fefc-adba-44c8-8126-be89832678f0",
   "metadata": {},
   "outputs": [
    {
     "name": "stderr",
     "output_type": "stream",
     "text": [
      "── \u001b[1mAttaching core tidyverse packages\u001b[22m ──────────────────────── tidyverse 2.0.0 ──\n",
      "\u001b[32m✔\u001b[39m \u001b[34mggplot2\u001b[39m 3.5.1     \u001b[32m✔\u001b[39m \u001b[34mtibble \u001b[39m 3.2.1\n",
      "\u001b[32m✔\u001b[39m \u001b[34mpurrr  \u001b[39m 1.0.2     \u001b[32m✔\u001b[39m \u001b[34mtidyr  \u001b[39m 1.3.1\n",
      "── \u001b[1mConflicts\u001b[22m ────────────────────────────────────────── tidyverse_conflicts() ──\n",
      "\u001b[31m✖\u001b[39m \u001b[34mdplyr\u001b[39m::\u001b[32mfilter()\u001b[39m  masks \u001b[34mstats\u001b[39m::filter()\n",
      "\u001b[31m✖\u001b[39m \u001b[34mstringr\u001b[39m::\u001b[32mfixed()\u001b[39m masks \u001b[34mrecipes\u001b[39m::fixed()\n",
      "\u001b[31m✖\u001b[39m \u001b[34mdplyr\u001b[39m::\u001b[32mident()\u001b[39m   masks \u001b[34mdbplyr\u001b[39m::ident()\n",
      "\u001b[31m✖\u001b[39m \u001b[34mdplyr\u001b[39m::\u001b[32mlag()\u001b[39m     masks \u001b[34mstats\u001b[39m::lag()\n",
      "\u001b[31m✖\u001b[39m \u001b[34mreadr\u001b[39m::\u001b[32mspec()\u001b[39m    masks \u001b[34myardstick\u001b[39m::spec()\n",
      "\u001b[31m✖\u001b[39m \u001b[34mdplyr\u001b[39m::\u001b[32msql()\u001b[39m     masks \u001b[34mdbplyr\u001b[39m::sql()\n",
      "\u001b[36mℹ\u001b[39m Use the conflicted package (\u001b[3m\u001b[34m<http://conflicted.r-lib.org/>\u001b[39m\u001b[23m) to force all conflicts to become errors\n",
      "── \u001b[1mAttaching packages\u001b[22m ────────────────────────────────────── tidymodels 1.1.1 ──\n",
      "\n",
      "\u001b[32m✔\u001b[39m \u001b[34mdials       \u001b[39m 1.3.0     \u001b[32m✔\u001b[39m \u001b[34mworkflowsets\u001b[39m 1.0.1\n",
      "\u001b[32m✔\u001b[39m \u001b[34mmodeldata   \u001b[39m 1.4.0     \n",
      "\n",
      "── \u001b[1mConflicts\u001b[22m ───────────────────────────────────────── tidymodels_conflicts() ──\n",
      "\u001b[31m✖\u001b[39m \u001b[34mscales\u001b[39m::\u001b[32mdiscard()\u001b[39m masks \u001b[34mpurrr\u001b[39m::discard()\n",
      "\u001b[31m✖\u001b[39m \u001b[34mdplyr\u001b[39m::\u001b[32mfilter()\u001b[39m   masks \u001b[34mstats\u001b[39m::filter()\n",
      "\u001b[31m✖\u001b[39m \u001b[34mstringr\u001b[39m::\u001b[32mfixed()\u001b[39m  masks \u001b[34mrecipes\u001b[39m::fixed()\n",
      "\u001b[31m✖\u001b[39m \u001b[34mdplyr\u001b[39m::\u001b[32mident()\u001b[39m    masks \u001b[34mdbplyr\u001b[39m::ident()\n",
      "\u001b[31m✖\u001b[39m \u001b[34mdplyr\u001b[39m::\u001b[32mlag()\u001b[39m      masks \u001b[34mstats\u001b[39m::lag()\n",
      "\u001b[31m✖\u001b[39m \u001b[34mreadr\u001b[39m::\u001b[32mspec()\u001b[39m     masks \u001b[34myardstick\u001b[39m::spec()\n",
      "\u001b[31m✖\u001b[39m \u001b[34mdplyr\u001b[39m::\u001b[32msql()\u001b[39m      masks \u001b[34mdbplyr\u001b[39m::sql()\n",
      "\u001b[31m✖\u001b[39m \u001b[34mrecipes\u001b[39m::\u001b[32mstep()\u001b[39m   masks \u001b[34mstats\u001b[39m::step()\n",
      "\u001b[34m•\u001b[39m Learn how to get started at \u001b[32mhttps://www.tidymodels.org/start/\u001b[39m\n",
      "\n",
      "Warning message in file(filename, \"r\", encoding = encoding):\n",
      "“cannot open file 'tests.R': No such file or directory”\n"
     ]
    },
    {
     "ename": "ERROR",
     "evalue": "Error in file(filename, \"r\", encoding = encoding): cannot open the connection\n",
     "output_type": "error",
     "traceback": [
      "Error in file(filename, \"r\", encoding = encoding): cannot open the connection\nTraceback:\n",
      "1. source(\"tests.R\")",
      "2. file(filename, \"r\", encoding = encoding)"
     ]
    }
   ],
   "source": [
    "# LOADING THE REQUIRED LIBRARIES\n",
    "library(tidyverse)\n",
    "library(repr)\n",
    "library(tidymodels)\n",
    "options(repr.matrix.max.rows = 6)\n",
    "source(\"tests.R\")\n",
    "source('cleanup.R')"
   ]
  },
  {
   "cell_type": "code",
   "execution_count": 106,
   "id": "03917667-bb51-46eb-b66c-6cf968a9e243",
   "metadata": {},
   "outputs": [
    {
     "name": "stderr",
     "output_type": "stream",
     "text": [
      "\u001b[1mRows: \u001b[22m\u001b[34m196\u001b[39m \u001b[1mColumns: \u001b[22m\u001b[34m7\u001b[39m\n",
      "\u001b[36m──\u001b[39m \u001b[1mColumn specification\u001b[22m \u001b[36m────────────────────────────────────────────────────────\u001b[39m\n",
      "\u001b[1mDelimiter:\u001b[22m \",\"\n",
      "\u001b[31mchr\u001b[39m (4): experience, hashedEmail, name, gender\n",
      "\u001b[32mdbl\u001b[39m (2): played_hours, Age\n",
      "\u001b[33mlgl\u001b[39m (1): subscribe\n",
      "\n",
      "\u001b[36mℹ\u001b[39m Use `spec()` to retrieve the full column specification for this data.\n",
      "\u001b[36mℹ\u001b[39m Specify the column types or set `show_col_types = FALSE` to quiet this message.\n",
      "\u001b[1mRows: \u001b[22m\u001b[34m1535\u001b[39m \u001b[1mColumns: \u001b[22m\u001b[34m5\u001b[39m\n",
      "\u001b[36m──\u001b[39m \u001b[1mColumn specification\u001b[22m \u001b[36m────────────────────────────────────────────────────────\u001b[39m\n",
      "\u001b[1mDelimiter:\u001b[22m \",\"\n",
      "\u001b[31mchr\u001b[39m (3): hashedEmail, start_time, end_time\n",
      "\u001b[32mdbl\u001b[39m (2): original_start_time, original_end_time\n",
      "\n",
      "\u001b[36mℹ\u001b[39m Use `spec()` to retrieve the full column specification for this data.\n",
      "\u001b[36mℹ\u001b[39m Specify the column types or set `show_col_types = FALSE` to quiet this message.\n"
     ]
    }
   ],
   "source": [
    "# LOADING REQUIRED CSV FILES FOR ANALYSIS\n",
    "player_data <- read_csv(\"data/players.csv\") \n",
    "sessions_data <- read_csv(\"data/sessions.csv\")"
   ]
  },
  {
   "cell_type": "code",
   "execution_count": 107,
   "id": "fed1597d-5a78-415c-9607-417e73c8763d",
   "metadata": {},
   "outputs": [
    {
     "data": {
      "text/html": [
       "<style>\n",
       ".list-inline {list-style: none; margin:0; padding: 0}\n",
       ".list-inline>li {display: inline-block}\n",
       ".list-inline>li:not(:last-child)::after {content: \"\\00b7\"; padding: 0 .5ex}\n",
       "</style>\n",
       "<ol class=list-inline><li>'experience'</li><li>'subscribe'</li><li>'hashedEmail'</li><li>'played_hours'</li><li>'name'</li><li>'gender'</li><li>'Age'</li></ol>\n"
      ],
      "text/latex": [
       "\\begin{enumerate*}\n",
       "\\item 'experience'\n",
       "\\item 'subscribe'\n",
       "\\item 'hashedEmail'\n",
       "\\item 'played\\_hours'\n",
       "\\item 'name'\n",
       "\\item 'gender'\n",
       "\\item 'Age'\n",
       "\\end{enumerate*}\n"
      ],
      "text/markdown": [
       "1. 'experience'\n",
       "2. 'subscribe'\n",
       "3. 'hashedEmail'\n",
       "4. 'played_hours'\n",
       "5. 'name'\n",
       "6. 'gender'\n",
       "7. 'Age'\n",
       "\n",
       "\n"
      ],
      "text/plain": [
       "[1] \"experience\"   \"subscribe\"    \"hashedEmail\"  \"played_hours\" \"name\"        \n",
       "[6] \"gender\"       \"Age\"         "
      ]
     },
     "metadata": {},
     "output_type": "display_data"
    },
    {
     "data": {
      "text/html": [
       "<style>\n",
       ".list-inline {list-style: none; margin:0; padding: 0}\n",
       ".list-inline>li {display: inline-block}\n",
       ".list-inline>li:not(:last-child)::after {content: \"\\00b7\"; padding: 0 .5ex}\n",
       "</style>\n",
       "<ol class=list-inline><li>'hashedEmail'</li><li>'start_time'</li><li>'end_time'</li><li>'original_start_time'</li><li>'original_end_time'</li></ol>\n"
      ],
      "text/latex": [
       "\\begin{enumerate*}\n",
       "\\item 'hashedEmail'\n",
       "\\item 'start\\_time'\n",
       "\\item 'end\\_time'\n",
       "\\item 'original\\_start\\_time'\n",
       "\\item 'original\\_end\\_time'\n",
       "\\end{enumerate*}\n"
      ],
      "text/markdown": [
       "1. 'hashedEmail'\n",
       "2. 'start_time'\n",
       "3. 'end_time'\n",
       "4. 'original_start_time'\n",
       "5. 'original_end_time'\n",
       "\n",
       "\n"
      ],
      "text/plain": [
       "[1] \"hashedEmail\"         \"start_time\"          \"end_time\"           \n",
       "[4] \"original_start_time\" \"original_end_time\"  "
      ]
     },
     "metadata": {},
     "output_type": "display_data"
    }
   ],
   "source": [
    "# CHECKING FOR POTENTIAL HEADER ISSUES\n",
    "colnames(player_data)\n",
    "colnames(sessions_data)\n",
    "\n",
    "# RECOGNIZED THAT CLEAN_NAMES() IS NOT NEEDED\n",
    "\n",
    "sessions_clean <- sessions_data |> \n",
    "        filter(!is.na(start_time), !is.na(end_time))"
   ]
  },
  {
   "cell_type": "code",
   "execution_count": 124,
   "id": "94d209ca-bf21-4dc9-9c91-c2f49281f78e",
   "metadata": {},
   "outputs": [
    {
     "data": {
      "text/html": [
       "<table class=\"dataframe\">\n",
       "<caption>A tibble: 1535 × 11</caption>\n",
       "<thead>\n",
       "\t<tr><th scope=col>hashedEmail</th><th scope=col>start_date</th><th scope=col>start_hr</th><th scope=col>start_min</th><th scope=col>end_date</th><th scope=col>end_hr</th><th scope=col>end_min</th><th scope=col>original_start_time</th><th scope=col>original_end_time</th><th scope=col>start_hour</th><th scope=col>end_hour</th></tr>\n",
       "\t<tr><th scope=col>&lt;chr&gt;</th><th scope=col>&lt;chr&gt;</th><th scope=col>&lt;chr&gt;</th><th scope=col>&lt;chr&gt;</th><th scope=col>&lt;chr&gt;</th><th scope=col>&lt;chr&gt;</th><th scope=col>&lt;chr&gt;</th><th scope=col>&lt;dbl&gt;</th><th scope=col>&lt;dbl&gt;</th><th scope=col>&lt;dbl&gt;</th><th scope=col>&lt;dbl&gt;</th></tr>\n",
       "</thead>\n",
       "<tbody>\n",
       "\t<tr><td>bfce39c89d6549f2bb94d8064d3ce69dc3d7e72b38f431d8aa0c4bf95ccee6bf</td><td>30/06/2024</td><td>18</td><td>12</td><td>30/06/2024</td><td>18</td><td>24</td><td>1.71977e+12</td><td>1.71977e+12</td><td>18</td><td>18</td></tr>\n",
       "\t<tr><td>36d9cbb4c6bc0c1a6911436d2da0d09ec625e43e6552f575d4acc9cf487c4686</td><td>17/06/2024</td><td>23</td><td>33</td><td>17/06/2024</td><td>23</td><td>46</td><td>1.71867e+12</td><td>1.71867e+12</td><td>23</td><td>23</td></tr>\n",
       "\t<tr><td>f8f5477f5a2e53616ae37421b1c660b971192bd8ff77e3398304c7ae42581fdc</td><td>25/07/2024</td><td>17</td><td>34</td><td>25/07/2024</td><td>17</td><td>57</td><td>1.72193e+12</td><td>1.72193e+12</td><td>17</td><td>17</td></tr>\n",
       "\t<tr><td>⋮</td><td>⋮</td><td>⋮</td><td>⋮</td><td>⋮</td><td>⋮</td><td>⋮</td><td>⋮</td><td>⋮</td><td>⋮</td><td>⋮</td></tr>\n",
       "\t<tr><td>fd6563a4e0f6f4273580e5fedbd8dda64990447aea5a33cbb5e894a3867ca44d</td><td>28/07/2024</td><td>15</td><td>36</td><td>28/07/2024</td><td>15</td><td>57</td><td>1.72218e+12</td><td>1.72218e+12</td><td>15</td><td>15</td></tr>\n",
       "\t<tr><td>fd6563a4e0f6f4273580e5fedbd8dda64990447aea5a33cbb5e894a3867ca44d</td><td>25/07/2024</td><td>06</td><td>15</td><td>25/07/2024</td><td>06</td><td>22</td><td>1.72189e+12</td><td>1.72189e+12</td><td> 6</td><td> 6</td></tr>\n",
       "\t<tr><td>36d9cbb4c6bc0c1a6911436d2da0d09ec625e43e6552f575d4acc9cf487c4686</td><td>20/05/2024</td><td>02</td><td>26</td><td>20/05/2024</td><td>02</td><td>45</td><td>1.71617e+12</td><td>1.71617e+12</td><td> 2</td><td> 2</td></tr>\n",
       "</tbody>\n",
       "</table>\n"
      ],
      "text/latex": [
       "A tibble: 1535 × 11\n",
       "\\begin{tabular}{lllllllllll}\n",
       " hashedEmail & start\\_date & start\\_hr & start\\_min & end\\_date & end\\_hr & end\\_min & original\\_start\\_time & original\\_end\\_time & start\\_hour & end\\_hour\\\\\n",
       " <chr> & <chr> & <chr> & <chr> & <chr> & <chr> & <chr> & <dbl> & <dbl> & <dbl> & <dbl>\\\\\n",
       "\\hline\n",
       "\t bfce39c89d6549f2bb94d8064d3ce69dc3d7e72b38f431d8aa0c4bf95ccee6bf & 30/06/2024 & 18 & 12 & 30/06/2024 & 18 & 24 & 1.71977e+12 & 1.71977e+12 & 18 & 18\\\\\n",
       "\t 36d9cbb4c6bc0c1a6911436d2da0d09ec625e43e6552f575d4acc9cf487c4686 & 17/06/2024 & 23 & 33 & 17/06/2024 & 23 & 46 & 1.71867e+12 & 1.71867e+12 & 23 & 23\\\\\n",
       "\t f8f5477f5a2e53616ae37421b1c660b971192bd8ff77e3398304c7ae42581fdc & 25/07/2024 & 17 & 34 & 25/07/2024 & 17 & 57 & 1.72193e+12 & 1.72193e+12 & 17 & 17\\\\\n",
       "\t ⋮ & ⋮ & ⋮ & ⋮ & ⋮ & ⋮ & ⋮ & ⋮ & ⋮ & ⋮ & ⋮\\\\\n",
       "\t fd6563a4e0f6f4273580e5fedbd8dda64990447aea5a33cbb5e894a3867ca44d & 28/07/2024 & 15 & 36 & 28/07/2024 & 15 & 57 & 1.72218e+12 & 1.72218e+12 & 15 & 15\\\\\n",
       "\t fd6563a4e0f6f4273580e5fedbd8dda64990447aea5a33cbb5e894a3867ca44d & 25/07/2024 & 06 & 15 & 25/07/2024 & 06 & 22 & 1.72189e+12 & 1.72189e+12 &  6 &  6\\\\\n",
       "\t 36d9cbb4c6bc0c1a6911436d2da0d09ec625e43e6552f575d4acc9cf487c4686 & 20/05/2024 & 02 & 26 & 20/05/2024 & 02 & 45 & 1.71617e+12 & 1.71617e+12 &  2 &  2\\\\\n",
       "\\end{tabular}\n"
      ],
      "text/markdown": [
       "\n",
       "A tibble: 1535 × 11\n",
       "\n",
       "| hashedEmail &lt;chr&gt; | start_date &lt;chr&gt; | start_hr &lt;chr&gt; | start_min &lt;chr&gt; | end_date &lt;chr&gt; | end_hr &lt;chr&gt; | end_min &lt;chr&gt; | original_start_time &lt;dbl&gt; | original_end_time &lt;dbl&gt; | start_hour &lt;dbl&gt; | end_hour &lt;dbl&gt; |\n",
       "|---|---|---|---|---|---|---|---|---|---|---|\n",
       "| bfce39c89d6549f2bb94d8064d3ce69dc3d7e72b38f431d8aa0c4bf95ccee6bf | 30/06/2024 | 18 | 12 | 30/06/2024 | 18 | 24 | 1.71977e+12 | 1.71977e+12 | 18 | 18 |\n",
       "| 36d9cbb4c6bc0c1a6911436d2da0d09ec625e43e6552f575d4acc9cf487c4686 | 17/06/2024 | 23 | 33 | 17/06/2024 | 23 | 46 | 1.71867e+12 | 1.71867e+12 | 23 | 23 |\n",
       "| f8f5477f5a2e53616ae37421b1c660b971192bd8ff77e3398304c7ae42581fdc | 25/07/2024 | 17 | 34 | 25/07/2024 | 17 | 57 | 1.72193e+12 | 1.72193e+12 | 17 | 17 |\n",
       "| ⋮ | ⋮ | ⋮ | ⋮ | ⋮ | ⋮ | ⋮ | ⋮ | ⋮ | ⋮ | ⋮ |\n",
       "| fd6563a4e0f6f4273580e5fedbd8dda64990447aea5a33cbb5e894a3867ca44d | 28/07/2024 | 15 | 36 | 28/07/2024 | 15 | 57 | 1.72218e+12 | 1.72218e+12 | 15 | 15 |\n",
       "| fd6563a4e0f6f4273580e5fedbd8dda64990447aea5a33cbb5e894a3867ca44d | 25/07/2024 | 06 | 15 | 25/07/2024 | 06 | 22 | 1.72189e+12 | 1.72189e+12 |  6 |  6 |\n",
       "| 36d9cbb4c6bc0c1a6911436d2da0d09ec625e43e6552f575d4acc9cf487c4686 | 20/05/2024 | 02 | 26 | 20/05/2024 | 02 | 45 | 1.71617e+12 | 1.71617e+12 |  2 |  2 |\n",
       "\n"
      ],
      "text/plain": [
       "     hashedEmail                                                     \n",
       "1    bfce39c89d6549f2bb94d8064d3ce69dc3d7e72b38f431d8aa0c4bf95ccee6bf\n",
       "2    36d9cbb4c6bc0c1a6911436d2da0d09ec625e43e6552f575d4acc9cf487c4686\n",
       "3    f8f5477f5a2e53616ae37421b1c660b971192bd8ff77e3398304c7ae42581fdc\n",
       "⋮    ⋮                                                               \n",
       "1533 fd6563a4e0f6f4273580e5fedbd8dda64990447aea5a33cbb5e894a3867ca44d\n",
       "1534 fd6563a4e0f6f4273580e5fedbd8dda64990447aea5a33cbb5e894a3867ca44d\n",
       "1535 36d9cbb4c6bc0c1a6911436d2da0d09ec625e43e6552f575d4acc9cf487c4686\n",
       "     start_date start_hr start_min end_date   end_hr end_min\n",
       "1    30/06/2024 18       12        30/06/2024 18     24     \n",
       "2    17/06/2024 23       33        17/06/2024 23     46     \n",
       "3    25/07/2024 17       34        25/07/2024 17     57     \n",
       "⋮    ⋮          ⋮        ⋮         ⋮          ⋮      ⋮      \n",
       "1533 28/07/2024 15       36        28/07/2024 15     57     \n",
       "1534 25/07/2024 06       15        25/07/2024 06     22     \n",
       "1535 20/05/2024 02       26        20/05/2024 02     45     \n",
       "     original_start_time original_end_time start_hour end_hour\n",
       "1    1.71977e+12         1.71977e+12       18         18      \n",
       "2    1.71867e+12         1.71867e+12       23         23      \n",
       "3    1.72193e+12         1.72193e+12       17         17      \n",
       "⋮    ⋮                   ⋮                 ⋮          ⋮       \n",
       "1533 1.72218e+12         1.72218e+12       15         15      \n",
       "1534 1.72189e+12         1.72189e+12        6          6      \n",
       "1535 1.71617e+12         1.71617e+12        2          2      "
      ]
     },
     "metadata": {},
     "output_type": "display_data"
    }
   ],
   "source": [
    "#Seperating start and end time\n",
    "\n",
    "# Step 2: Separate start time into date/hour/min\n",
    "sessions <- sessions_data |>\n",
    "  separate(start_time, into = c(\"start_date\", \"start_clock\"), sep = \" \") |>\n",
    "  separate(start_clock, into = c(\"start_hr\", \"start_min\"), sep = \":\") |>\n",
    "  separate(end_time, into = c(\"end_date\", \"end_clock\"), sep = \" \") |>\n",
    "  separate(end_clock, into = c(\"end_hr\", \"end_min\"), sep = \":\")\n",
    "\n",
    "# Step 4: Convert hours to numeric\n",
    "sessions <- sessions |>\n",
    "  mutate(\n",
    "    start_hour = as.numeric(start_hr),\n",
    "    end_hour = as.numeric(end_hr)\n",
    "  )\n",
    "sessions"
   ]
  },
  {
   "cell_type": "code",
   "execution_count": 125,
   "id": "3d930867-2301-4dd1-8b27-7f3bbacf0a5c",
   "metadata": {},
   "outputs": [
    {
     "ename": "ERROR",
     "evalue": "\u001b[1m\u001b[33mError\u001b[39m in `mutate()`:\u001b[22m\n\u001b[1m\u001b[22m\u001b[36mℹ\u001b[39m In argument: `hour = list(seq(start_hour, end_hour))`.\n\u001b[36mℹ\u001b[39m In row 681.\n\u001b[1mCaused by error in `seq.default()`:\u001b[22m\n\u001b[33m!\u001b[39m 'to' must be a finite number\n",
     "output_type": "error",
     "traceback": [
      "\u001b[1m\u001b[33mError\u001b[39m in `mutate()`:\u001b[22m\n\u001b[1m\u001b[22m\u001b[36mℹ\u001b[39m In argument: `hour = list(seq(start_hour, end_hour))`.\n\u001b[36mℹ\u001b[39m In row 681.\n\u001b[1mCaused by error in `seq.default()`:\u001b[22m\n\u001b[33m!\u001b[39m 'to' must be a finite number\nTraceback:\n",
      "1. ungroup(unnest(mutate(rowwise(sessions), hour = list(seq(start_hour, \n .     end_hour))), hour))",
      "2. unnest(mutate(rowwise(sessions), hour = list(seq(start_hour, \n .     end_hour))), hour)",
      "3. mutate(rowwise(sessions), hour = list(seq(start_hour, end_hour)))",
      "4. mutate.data.frame(rowwise(sessions), hour = list(seq(start_hour, \n .     end_hour)))",
      "5. mutate_cols(.data, dplyr_quosures(...), by)",
      "6. withCallingHandlers(for (i in seq_along(dots)) {\n .     poke_error_context(dots, i, mask = mask)\n .     context_poke(\"column\", old_current_column)\n .     new_columns <- mutate_col(dots[[i]], data, mask, new_columns)\n . }, error = dplyr_error_handler(dots = dots, mask = mask, bullets = mutate_bullets, \n .     error_call = error_call, error_class = \"dplyr:::mutate_error\"), \n .     warning = dplyr_warning_handler(state = warnings_state, mask = mask, \n .         error_call = error_call))",
      "7. mutate_col(dots[[i]], data, mask, new_columns)",
      "8. mask$eval_all_mutate(quo)",
      "9. eval()",
      "10. seq(start_hour, end_hour)",
      "11. seq.default(start_hour, end_hour)",
      "12. stop(\"'to' must be a finite number\")",
      "13. .handleSimpleError(function (cnd) \n  . {\n  .     local_error_context(dots, i = frame[[i_sym]], mask = mask)\n  .     if (inherits(cnd, \"dplyr:::internal_error\")) {\n  .         parent <- error_cnd(message = bullets(cnd))\n  .     }\n  .     else {\n  .         parent <- cnd\n  .     }\n  .     message <- c(cnd_bullet_header(action), i = if (has_active_group_context(mask)) cnd_bullet_cur_group_label())\n  .     abort(message, class = error_class, parent = parent, call = error_call)\n  . }, \"'to' must be a finite number\", base::quote(seq.default(start_hour, \n  .     end_hour)))",
      "14. h(simpleError(msg, call))",
      "15. abort(message, class = error_class, parent = parent, call = error_call)",
      "16. signal_abort(cnd, .file)"
     ]
    }
   ],
   "source": [
    "sessions_expanded <- sessions |>\n",
    "  rowwise() |>\n",
    "  mutate(hour = list(seq(start_hour, end_hour))) |>\n",
    "  unnest(hour) |>\n",
    "  ungroup()\n",
    "sessions_expanded"
   ]
  },
  {
   "cell_type": "code",
   "execution_count": null,
   "id": "33f1df5e-176f-4a78-82fc-4ea9e126b681",
   "metadata": {},
   "outputs": [],
   "source": []
  },
  {
   "cell_type": "code",
   "execution_count": null,
   "id": "59edd5a1-59e5-4391-9710-4df5891cc42e",
   "metadata": {},
   "outputs": [],
   "source": []
  },
  {
   "cell_type": "code",
   "execution_count": null,
   "id": "695d8c13-c84d-498c-8c20-a38c2358ee7b",
   "metadata": {},
   "outputs": [],
   "source": []
  },
  {
   "cell_type": "code",
   "execution_count": null,
   "id": "d0527adb-c35a-4c5c-853d-80587982c96d",
   "metadata": {},
   "outputs": [],
   "source": []
  }
 ],
 "metadata": {
  "kernelspec": {
   "display_name": "R",
   "language": "R",
   "name": "ir"
  },
  "language_info": {
   "codemirror_mode": "r",
   "file_extension": ".r",
   "mimetype": "text/x-r-source",
   "name": "R",
   "pygments_lexer": "r",
   "version": "4.3.3"
  }
 },
 "nbformat": 4,
 "nbformat_minor": 5
}
